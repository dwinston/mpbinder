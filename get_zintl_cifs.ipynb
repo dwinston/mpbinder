{
 "cells": [
  {
   "cell_type": "markdown",
   "metadata": {},
   "source": [
    "Using `pymatgen` and its interface to the Materials Project (MP) API, download CIF structure files for [Zintl phase](https://en.wikipedia.org/wiki/Zintl_phase) compounds. "
   ]
  },
  {
   "cell_type": "code",
   "execution_count": null,
   "metadata": {
    "collapsed": true
   },
   "outputs": [],
   "source": [
    "import csv\n",
    "import itertools\n",
    "from zipfile import ZipFile\n",
    "\n",
    "from pymatgen import Element, MPRester"
   ]
  },
  {
   "cell_type": "code",
   "execution_count": null,
   "metadata": {
    "collapsed": false
   },
   "outputs": [],
   "source": [
    "def zintl_systems():\n",
    "    \"\"\"Use definition at https://en.wikipedia.org/wiki/Zintl_phase.\n",
    "    \n",
    "    Return a sorted list of chemical systems\n",
    "        of the form [...,\"Na-Si\",...,\"Na-Tl\",...]\n",
    "    \"\"\"\n",
    "    first_el = {el.symbol for el in Element\n",
    "                if el.is_alkali or el.is_alkaline}\n",
    "    second_el = {el.symbol for el in Element\n",
    "                 if el.group in (13, 14, 15, 16)}\n",
    "    return sorted([\"{}-{}\".format(*sorted(pair))\n",
    "                   for pair in itertools.product(first_el, second_el)])   "
   ]
  },
  {
   "cell_type": "code",
   "execution_count": null,
   "metadata": {
    "collapsed": false
   },
   "outputs": [],
   "source": [
    "# Go to https://materialsproject.org/dashboard to Generate/Copy your API key\n",
    "mpr = MPRester(\"YOUR_API_KEY\")\n",
    "\n",
    "docs = mpr.query({'chemsys': {'$in': zintl_systems()}}, ['material_id', 'pretty_formula','cif'])"
   ]
  },
  {
   "cell_type": "code",
   "execution_count": null,
   "metadata": {
    "collapsed": false
   },
   "outputs": [],
   "source": [
    "# Check to see how many results were found\n",
    "len(docs)"
   ]
  },
  {
   "cell_type": "code",
   "execution_count": null,
   "metadata": {
    "collapsed": false
   },
   "outputs": [],
   "source": [
    "with ZipFile('zintl_cifs.zip', 'w') as f:\n",
    "    for d in docs:\n",
    "        f.writestr('{}_{}.cif'.format(d['pretty_formula'], d['material_id']),\n",
    "                   d['cif'])"
   ]
  },
  {
   "cell_type": "markdown",
   "metadata": {},
   "source": [
    "Now go to the menu bar at the top of this notebook window and click File -> Open to find `zintl_cifs.zip` to download to your computer."
   ]
  }
 ],
 "metadata": {
  "kernelspec": {
   "display_name": "Python 2",
   "language": "python",
   "name": "python2"
  },
  "language_info": {
   "codemirror_mode": {
    "name": "ipython",
    "version": 2
   },
   "file_extension": ".py",
   "mimetype": "text/x-python",
   "name": "python",
   "nbconvert_exporter": "python",
   "pygments_lexer": "ipython2",
   "version": "2.7.10"
  }
 },
 "nbformat": 4,
 "nbformat_minor": 0
}
