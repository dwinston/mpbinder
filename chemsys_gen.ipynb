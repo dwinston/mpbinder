{
 "cells": [
  {
   "cell_type": "markdown",
   "metadata": {},
   "source": [
    "# Retrieve data from lists of specific elements\n",
    "\n",
    "\n",
    "This notebook shows a method to retrieve Materials Project (MP) data for all binary, ternary, etc. compounds whose elements belong to specific lists (i.e., excluding all other elements).\n",
    "\n",
    "While it is simple enough to list chemical system values explicitly in a query, e.g.\n",
    "\n",
    "    {'chemsys': {'$in': ['Fe-O', 'Na-O']}}\n",
    "    \n",
    "there is not yet a standard way to generate a list of chemical systems based on element properties such as periodic table group, whether or not it is an alkali metal, etc. The `pymatgen` library provides a set of named properties for each element, so here we present a way to leverage this resource to generate chemical system values suitable for input to a MP API query filter."
   ]
  },
  {
   "cell_type": "code",
   "execution_count": 140,
   "metadata": {
    "collapsed": true
   },
   "outputs": [],
   "source": [
    "from pprint import pprint\n",
    "import itertools\n",
    "\n",
    "from pymatgen import Element, MPRester"
   ]
  },
  {
   "cell_type": "code",
   "execution_count": 141,
   "metadata": {
    "collapsed": true
   },
   "outputs": [],
   "source": [
    "def spec_to_elt_list(spec):\n",
    "    \"\"\"Return a list of Elements given a specification.\n",
    "    \n",
    "    A specification is a filter on pymatgen.core.periodic_table.Element\n",
    "    attributes using a subset of MongoDB filter syntax.\n",
    "    \"\"\"\n",
    "    assert isinstance(spec, dict)\n",
    "    \n",
    "    elt_list = [e for e in Element]\n",
    "    for field, val in spec.items():\n",
    "        if isinstance(val, dict):\n",
    "            if '$in' in val:\n",
    "                elt_list = [e for e in elt_list\n",
    "                            if getattr(e, field) in val['$in']]\n",
    "            elif '$gt' in val:\n",
    "                elt_list = [e for e in elt_list\n",
    "                            if getattr(e, field) > val['$gt']]\n",
    "            elif '$lt' in val:\n",
    "                elt_list = [e for e in elt_list\n",
    "                            if getattr(e, field) < val['$lt']]\n",
    "        elif field == '$or':\n",
    "            elt_set = set()\n",
    "            for subspec in val:\n",
    "                elt_set.update(spec_to_elt_list(subspec))\n",
    "            elt_list = [e for e in elt_list if e in elt_set]\n",
    "        else:\n",
    "            elt_list = [e for e in elt_list if getattr(e, field) == val]\n",
    "    \n",
    "    return elt_list"
   ]
  },
  {
   "cell_type": "code",
   "execution_count": 142,
   "metadata": {
    "collapsed": true
   },
   "outputs": [],
   "source": [
    "def chemsys_gen(elt_specs):\n",
    "    \"\"\"Generate chemical systems given a list of element specifications.\n",
    "\n",
    "    An element specification may be either a list of element symbols,\n",
    "    or a filter on pymatgen.core.periodic_table.Element attributes\n",
    "    using a subset of MongoDB filter syntax.\n",
    "\n",
    "    Return a sorted list of chemical systems\n",
    "        of the form [...,\"Na-Si\",...,\"Na-Tl\",...]\n",
    "\n",
    "    \"\"\"\n",
    "    elt_lists = []\n",
    "    for spec in elt_specs:\n",
    "        if isinstance(spec, list):\n",
    "            elt_lists.append([Element(s) for s in spec])\n",
    "        elif isinstance(spec, dict):\n",
    "            elt_lists.append(spec_to_elt_list(spec))\n",
    "    sym_lists = [[e.symbol for e in elt_list] for elt_list in elt_lists]\n",
    "\n",
    "    return sorted([\"-\".join(sorted(tup))\n",
    "                   for tup in itertools.product(*sym_lists)])"
   ]
  },
  {
   "cell_type": "code",
   "execution_count": 143,
   "metadata": {
    "collapsed": true
   },
   "outputs": [],
   "source": [
    "# Test\n",
    "\n",
    "def zintl_systems():\n",
    "    \"\"\"Use definition at https://en.wikipedia.org/wiki/Zintl_phase.\n",
    "    \n",
    "    Return a sorted list of chemical systems\n",
    "        of the form [...,\"Na-Si\",...,\"Na-Tl\",...]\n",
    "    \"\"\"\n",
    "    first_el = {el.symbol for el in Element\n",
    "                if el.is_alkali or el.is_alkaline}\n",
    "    second_el = {el.symbol for el in Element\n",
    "                 if el.group in (13, 14, 15, 16)}\n",
    "    return sorted([\"{}-{}\".format(*sorted(pair))\n",
    "                   for pair in itertools.product(first_el, second_el)])\n",
    "\n",
    "result = chemsys_gen([\n",
    "        {'$or': [{'is_alkali': True}, {'is_alkaline': True}]},\n",
    "        {'group': {'$in': [13, 14, 15, 16]}}])\n",
    "\n",
    "assert zintl_systems() == result"
   ]
  },
  {
   "cell_type": "markdown",
   "metadata": {},
   "source": [
    "For example, how to retrieve data for a binary compound made of elements from groups 1 and 2 in the Periodic Table? That is, one element has to belong to group 1 and the other from group 2, and they can't belong to any group other than 1 and 2. Other examples:\n",
    "* A binary compound with both elements from group 3.\n",
    "* A ternary compound with elements from groups 1, 3, and 4."
   ]
  },
  {
   "cell_type": "code",
   "execution_count": 144,
   "metadata": {
    "collapsed": false
   },
   "outputs": [],
   "source": [
    "binaries_g12 = chemsys_gen([{'group': 1}, {'group': 2}])\n",
    "binaries_g33 = chemsys_gen([{'group': 3}, {'group': 3}])\n",
    "ternaries_g134 = chemsys_gen([{'group': 1},\n",
    "                              {'group': 3},\n",
    "                              {'group': 4}])"
   ]
  },
  {
   "cell_type": "code",
   "execution_count": 145,
   "metadata": {
    "collapsed": true
   },
   "outputs": [],
   "source": [
    "mpr = MPRester()"
   ]
  },
  {
   "cell_type": "code",
   "execution_count": 146,
   "metadata": {
    "collapsed": false
   },
   "outputs": [
    {
     "name": "stdout",
     "output_type": "stream",
     "text": [
      "79 entries\n",
      "A sample:\n",
      "[{u'energy': -40.66177228,\n",
      "  u'material_id': u'mp-23715',\n",
      "  u'pretty_formula': u'BaH2'},\n",
      " {u'energy': -240.06148424,\n",
      "  u'material_id': u'mp-569841',\n",
      "  u'pretty_formula': u'Ba19Li44'},\n",
      " {u'energy': -57.08994036,\n",
      "  u'material_id': u'mp-210',\n",
      "  u'pretty_formula': u'BaLi4'}]\n"
     ]
    }
   ],
   "source": [
    "data = mpr.query({'chemsys': {'$in': binaries_g12}},\n",
    "                 ['material_id','pretty_formula', 'energy'])\n",
    "print(\"{} entries\".format(len(data)))\n",
    "print(\"A sample:\")\n",
    "pprint(data[:3])"
   ]
  },
  {
   "cell_type": "code",
   "execution_count": 147,
   "metadata": {
    "collapsed": false
   },
   "outputs": [
    {
     "data": {
      "text/plain": [
       "[{u'energy': -18.84932285,\n",
       "  u'material_id': u'mp-985059',\n",
       "  u'pretty_formula': u'AcLa3'},\n",
       " {u'energy': -34.26346144,\n",
       "  u'material_id': u'mp-985540',\n",
       "  u'pretty_formula': u'Ac3La'},\n",
       " {u'energy': -36.47700168,\n",
       "  u'material_id': u'mp-985561',\n",
       "  u'pretty_formula': u'Ac3Sc'}]"
      ]
     },
     "execution_count": 147,
     "metadata": {},
     "output_type": "execute_result"
    }
   ],
   "source": [
    "data = mpr.query({'chemsys': {'$in': binaries_g33}},\n",
    "                 ['material_id','pretty_formula', 'energy'])\n",
    "data"
   ]
  },
  {
   "cell_type": "code",
   "execution_count": 148,
   "metadata": {
    "collapsed": false
   },
   "outputs": [
    {
     "data": {
      "text/plain": [
       "[{u'energy': -13.36513481,\n",
       "  u'material_id': u'mp-631338',\n",
       "  u'pretty_formula': u'LiZrSc'}]"
      ]
     },
     "execution_count": 148,
     "metadata": {},
     "output_type": "execute_result"
    }
   ],
   "source": [
    "data = mpr.query({'chemsys': {'$in': ternaries_g134}},\n",
    "                 ['material_id','pretty_formula', 'energy'])\n",
    "data"
   ]
  }
 ],
 "metadata": {
  "kernelspec": {
   "display_name": "Python 2",
   "language": "python",
   "name": "python2"
  },
  "language_info": {
   "codemirror_mode": {
    "name": "ipython",
    "version": 2
   },
   "file_extension": ".py",
   "mimetype": "text/x-python",
   "name": "python",
   "nbconvert_exporter": "python",
   "pygments_lexer": "ipython2",
   "version": "2.7.10"
  }
 },
 "nbformat": 4,
 "nbformat_minor": 1
}
